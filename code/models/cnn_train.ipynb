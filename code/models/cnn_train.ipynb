{
 "cells": [
  {
   "cell_type": "code",
   "execution_count": 1,
   "id": "941e4fb1-0973-42e9-b3c7-0bd6fef6f80e",
   "metadata": {},
   "outputs": [],
   "source": [
    "import os\n",
    "import torch\n",
    "import random\n",
    "import torchvision\n",
    "import numpy as np\n",
    "import torch.nn as nn\n",
    "import torch.optim as optim\n",
    "import torch.nn.functional as F\n",
    "import torchvision.transforms as transforms\n",
    "\n",
    "from tqdm import tqdm\n",
    "from plotly_utils import line\n",
    "from dataclasses import dataclass\n",
    "from torch.utils.data import DataLoader"
   ]
  },
  {
   "cell_type": "code",
   "execution_count": 2,
   "id": "ef130296-a19c-47b2-b2a7-01b97432bcec",
   "metadata": {},
   "outputs": [],
   "source": [
    "device = torch.device('cuda' if torch.cuda.is_available() else 'cpu')"
   ]
  },
  {
   "cell_type": "code",
   "execution_count": 3,
   "id": "f0e7d09a-0b31-4db1-835c-0b670011c4f2",
   "metadata": {},
   "outputs": [
    {
     "name": "stderr",
     "output_type": "stream",
     "text": [
      "/tmp/ipykernel_662317/891100988.py:1: FutureWarning: You are using `torch.load` with `weights_only=False` (the current default value), which uses the default pickle module implicitly. It is possible to construct malicious pickle data which will execute arbitrary code during unpickling (See https://github.com/pytorch/pytorch/blob/main/SECURITY.md#untrusted-models for more details). In a future release, the default value for `weights_only` will be flipped to `True`. This limits the functions that could be executed during unpickling. Arbitrary objects will no longer be allowed to be loaded via this mode unless they are explicitly allowlisted by the user via `torch.serialization.add_safe_globals`. We recommend you start setting `weights_only=True` for any use case where you don't have full control of the loaded file. Please open an issue on GitHub for any issues related to this experimental feature.\n",
      "  train_dataset = torch.load('/home/user/Capstone/Israel/LLM Course/dataset/filtered_train_dataset.pth')\n",
      "/tmp/ipykernel_662317/891100988.py:2: FutureWarning: You are using `torch.load` with `weights_only=False` (the current default value), which uses the default pickle module implicitly. It is possible to construct malicious pickle data which will execute arbitrary code during unpickling (See https://github.com/pytorch/pytorch/blob/main/SECURITY.md#untrusted-models for more details). In a future release, the default value for `weights_only` will be flipped to `True`. This limits the functions that could be executed during unpickling. Arbitrary objects will no longer be allowed to be loaded via this mode unless they are explicitly allowlisted by the user via `torch.serialization.add_safe_globals`. We recommend you start setting `weights_only=True` for any use case where you don't have full control of the loaded file. Please open an issue on GitHub for any issues related to this experimental feature.\n",
      "  test_dataset = torch.load('/home/user/Capstone/Israel/LLM Course/dataset/filtered_test_dataset.pth')\n"
     ]
    }
   ],
   "source": [
    "train_dataset = torch.load('/home/user/Capstone/Israel/LLM Course/dataset/filtered_train_dataset.pth')\n",
    "test_dataset = torch.load('/home/user/Capstone/Israel/LLM Course/dataset/filtered_test_dataset.pth')"
   ]
  },
  {
   "cell_type": "code",
   "execution_count": 4,
   "id": "145dc438-8dbe-40cd-ad3b-cf55cb298c2b",
   "metadata": {},
   "outputs": [],
   "source": [
    "train_loader = torch.utils.data.DataLoader(dataset=train_dataset, batch_size=64, shuffle=True)\n",
    "test_loader = torch.utils.data.DataLoader(dataset=test_dataset, batch_size=64, shuffle=False)"
   ]
  },
  {
   "cell_type": "code",
   "execution_count": 11,
   "id": "60076899-535d-47ee-b268-0305cad5b442",
   "metadata": {},
   "outputs": [],
   "source": [
    "class BasicBlock(nn.Module):\n",
    "    def __init__(self, in_channels, out_channels, stride=1):\n",
    "        super(BasicBlock, self).__init__()\n",
    "        self.conv1 = nn.Conv2d(in_channels, out_channels, kernel_size=3, stride=stride, padding=1, bias=False)\n",
    "        self.bn1 = nn.BatchNorm2d(out_channels)\n",
    "        self.conv2 = nn.Conv2d(out_channels, out_channels, kernel_size=3, padding=1, bias=False)\n",
    "        self.bn2 = nn.BatchNorm2d(out_channels)\n",
    "\n",
    "        self.shortcut = nn.Sequential()\n",
    "        if stride != 1 or in_channels != out_channels:\n",
    "            self.shortcut = nn.Sequential(\n",
    "                nn.Conv2d(in_channels, out_channels, kernel_size=1, stride=stride, bias=False),\n",
    "                nn.BatchNorm2d(out_channels)\n",
    "            )\n",
    "\n",
    "    def forward(self, x):\n",
    "        out = F.relu(self.bn1(self.conv1(x)))\n",
    "        out = self.bn2(self.conv2(out))\n",
    "        out += self.shortcut(x)\n",
    "        out = F.relu(out)\n",
    "        return out\n",
    "\n",
    "class MiniResNet(nn.Module):\n",
    "    def __init__(self, block, num_blocks):\n",
    "        super(MiniResNet, self).__init__()\n",
    "        self.in_channels = 64\n",
    "        self.conv1 = nn.Conv2d(3, 64, kernel_size=3, padding=1, bias=False)\n",
    "        self.bn1 = nn.BatchNorm2d(64)\n",
    "        self.layer1 = self._make_layer(block, 64, num_blocks[0])\n",
    "        self.layer2 = self._make_layer(block, 128, num_blocks[1], stride=2)\n",
    "        self.layer3 = self._make_layer(block, 256, num_blocks[2], stride=2)\n",
    "        self.layer4 = self._make_layer(block, 512, num_blocks[3], stride=2)\n",
    "        self.layer5 = self._make_layer(block, 512, num_blocks[3], stride=2)\n",
    "        self.layer6 = self._make_layer(block, 512, num_blocks[3], stride=2)\n",
    "        self.avgpool = nn.AdaptiveAvgPool2d((1, 1))\n",
    "        self.fc = nn.Linear(512, 4)\n",
    "\n",
    "    def _make_layer(self, block, out_channels, blocks, stride=1):\n",
    "        layers = []\n",
    "        layers.append(block(self.in_channels, out_channels, stride))\n",
    "        self.in_channels = out_channels\n",
    "        for _ in range(1, blocks):\n",
    "            layers.append(block(out_channels, out_channels))\n",
    "        return nn.Sequential(*layers)\n",
    "\n",
    "    def forward(self, x):\n",
    "        x = F.relu(self.bn1(self.conv1(x)))\n",
    "        x = self.layer1(x)\n",
    "        x = self.layer2(x)\n",
    "        x = self.layer3(x)\n",
    "        x = self.layer4(x)\n",
    "        x = self.layer5(x)\n",
    "        x = self.layer6(x)\n",
    "        x = self.avgpool(x)\n",
    "        x = x.view(x.size(0), -1) \n",
    "        x = self.fc(x)\n",
    "        return x\n",
    "\n",
    "# MinResNet instantiation\n",
    "def MiniResNet34():\n",
    "    return MiniResNet(BasicBlock, [3, 4, 6, 3])"
   ]
  },
  {
   "cell_type": "code",
   "execution_count": 6,
   "id": "cd465ef4-8801-40e2-95e2-8e6896d46a17",
   "metadata": {},
   "outputs": [
    {
     "data": {
      "text/plain": [
       "21279044"
      ]
     },
     "execution_count": 6,
     "metadata": {},
     "output_type": "execute_result"
    }
   ],
   "source": [
    "model = MiniResNet34()\n",
    "sum(p.numel() for p in model.parameters())"
   ]
  },
  {
   "cell_type": "code",
   "execution_count": 12,
   "id": "02545531-ff86-48aa-aeda-1845523a76dd",
   "metadata": {},
   "outputs": [],
   "source": [
    "@dataclass\n",
    "class ResNetCNNTrainingArgs():\n",
    "    batch_size: int = 64\n",
    "    epochs: int = 20\n",
    "    lr: float = 1e-3\n",
    "    max_steps_per_epoch: int = None \n",
    "\n",
    "\n",
    "\n",
    "class ResNetCNNTrainer:\n",
    "    def __init__(self, args: ResNetCNNTrainingArgs, model: MiniResNet):\n",
    "        self.model = model\n",
    "        self.args = args\n",
    "        self.optimizer = optim.Adam(self.model.parameters(), lr=args.lr)\n",
    "        self.criterion = nn.CrossEntropyLoss()\n",
    "        self.loss_list = []\n",
    "\n",
    "    def training_step(self, batch):\n",
    "        '''\n",
    "        Performs a single training step.\n",
    "        '''\n",
    "        images, labels = batch\n",
    "        images, labels = images.to(device), labels.to(device)\n",
    "\n",
    "        outputs = self.model(images)\n",
    "        loss = self.criterion(outputs, labels)\n",
    "        loss.backward()\n",
    "        self.optimizer.step()\n",
    "        self.optimizer.zero_grad()\n",
    "\n",
    "        self.loss_list.append(loss.item())\n",
    "        return loss.item()\n",
    "\n",
    "    def validation_step(self, batch):\n",
    "        '''\n",
    "        Performs a single validation step.\n",
    "        '''\n",
    "        images, labels = batch\n",
    "        images = images.to(device)\n",
    "        labels = labels.to(device)\n",
    "\n",
    "        outputs = self.model(images)\n",
    "\n",
    "        _, predicted = torch.max(outputs, 1)\n",
    "        \n",
    "        correct = (predicted == labels).sum().item()\n",
    "        total = labels.size(0)\n",
    "        \n",
    "        return correct, total\n",
    "\n",
    "    def train(self):\n",
    "        '''\n",
    "        Trains the model for `self.args.epochs` epochs, and evaluates on validation set.\n",
    "        '''\n",
    "        self.args.max_steps_per_epoch = self.calculate_max_steps_per_epoch()\n",
    "        progress_bar = tqdm(total=self.args.max_steps_per_epoch * self.args.epochs)\n",
    "    \n",
    "        for epoch in range(self.args.epochs):\n",
    "            self.model.train()\n",
    "            running_loss = 0.0\n",
    "            for i, batch in enumerate(self.train_loader()):\n",
    "                loss = self.training_step(batch)\n",
    "                progress_bar.update(1)\n",
    "                progress_bar.set_description(f\"Epoch {epoch+1}, loss: {loss:.5f}\")\n",
    "                if i >= self.args.max_steps_per_epoch:\n",
    "                    break\n",
    "\n",
    "            self.model.eval()\n",
    "            correct_predictions = 0\n",
    "            total_predictions = 0\n",
    "            with torch.no_grad(): \n",
    "                for batch in self.test_loader():\n",
    "                    correct, total = self.validation_step(batch)\n",
    "                    correct_predictions += correct\n",
    "                    total_predictions += total\n",
    "            accuracy = correct_predictions / total_predictions * 100\n",
    "            print(f\"Epoch [{epoch+1}/{self.args.epochs}], Validation Accuracy: {accuracy:.2f}%\")\n",
    "\n",
    "        line(\n",
    "            self.loss_list,\n",
    "            yaxis_range=[0, max(self.loss_list) + 0.1],\n",
    "            x=torch.linspace(0, self.args.epochs, len(self.loss_list)),\n",
    "            labels={\"x\": \"Num epochs\", \"y\": \"Training Loss\"},\n",
    "            title=\"CNN Training Loss\",\n",
    "            width=700,\n",
    "        )\n",
    "\n",
    "    def train_loader(self) -> DataLoader:\n",
    "        '''Returns train loader.'''\n",
    "        return DataLoader(train_dataset, batch_size=self.args.batch_size, shuffle=True, num_workers=2, pin_memory=True)\n",
    "\n",
    "    def test_loader(self) -> DataLoader:\n",
    "        '''Returns test loader.'''\n",
    "        return DataLoader(test_dataset, batch_size=self.args.batch_size, shuffle=False, num_workers=2, pin_memory=True)\n",
    "\n",
    "    def calculate_max_steps_per_epoch(self):\n",
    "        dataset_size = len(self.train_loader().dataset)\n",
    "        return dataset_size // self.args.batch_size"
   ]
  },
  {
   "cell_type": "code",
   "execution_count": null,
   "id": "dd026580-2d95-4235-9475-ac19c75e3e94",
   "metadata": {},
   "outputs": [
    {
     "name": "stderr",
     "output_type": "stream",
     "text": [
      "Epoch 1, loss: 1.22235:   2%|▏         | 165/9360 [00:08<08:15, 18.57it/s]"
     ]
    }
   ],
   "source": [
    "args = ResNetCNNTrainingArgs(batch_size=64, epochs=30, lr=5e-4)\n",
    "model = MiniResNet34().to(device)\n",
    "trainer = ResNetCNNTrainer(args, model)\n",
    "\n",
    "trainer.train()"
   ]
  },
  {
   "cell_type": "code",
   "execution_count": 10,
   "id": "b3da1082-12fd-4eee-a051-f916f5c4468e",
   "metadata": {},
   "outputs": [
    {
     "name": "stdout",
     "output_type": "stream",
     "text": [
      "Model training complete and saved as 'animal_classifier.pth'.\n"
     ]
    }
   ],
   "source": [
    "model = trainer.model\n",
    "os.makedirs('/home/user/Capstone/Israel/LLM Course/models', exist_ok=True)\n",
    "torch.save(model.state_dict(), '/home/user/Capstone/Israel/LLM Course/models/animal_classifier.pth')\n",
    "\n",
    "print(\"Model training complete and saved as 'animal_classifier.pth'.\")"
   ]
  }
 ],
 "metadata": {
  "kernelspec": {
   "display_name": "code_stral",
   "language": "python",
   "name": "code_stral"
  },
  "language_info": {
   "codemirror_mode": {
    "name": "ipython",
    "version": 3
   },
   "file_extension": ".py",
   "mimetype": "text/x-python",
   "name": "python",
   "nbconvert_exporter": "python",
   "pygments_lexer": "ipython3",
   "version": "3.8.10"
  }
 },
 "nbformat": 4,
 "nbformat_minor": 5
}
